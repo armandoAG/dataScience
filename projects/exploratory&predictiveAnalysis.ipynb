{
  "nbformat": 4,
  "nbformat_minor": 0,
  "metadata": {
    "kernelspec": {
      "display_name": "Python 3.7",
      "language": "python",
      "name": "python3"
    },
    "language_info": {
      "codemirror_mode": {
        "name": "ipython",
        "version": 3
      },
      "file_extension": ".py",
      "mimetype": "text/x-python",
      "name": "python",
      "nbconvert_exporter": "python",
      "pygments_lexer": "ipython3",
      "version": "3.7.9"
    },
    "colab": {
      "name": "exploratory&predictiveAnalysis.ipynb",
      "provenance": []
    }
  },
  "cells": [
    {
      "cell_type": "markdown",
      "metadata": {
        "id": "iJCiR9Ym2yN7"
      },
      "source": [
        "# Analyzing Where Do People Drink?\n"
      ]
    },
    {
      "cell_type": "markdown",
      "metadata": {
        "id": "_Nj3RylM2yN8"
      },
      "source": [
        "This Dataset is from the story <a href=https://fivethirtyeight.com/features/dear-mona-followup-where-do-people-drink-the-most-beer-wine-and-spirits/>  Dear Mona Followup: Where Do People Drink The Most Beer, Wine And Spirits? </a>  The dataset contains Average serving sizes per person such as average wine, spirit, beer servings. As well as several other metrics. "
      ]
    },
    {
      "cell_type": "markdown",
      "metadata": {
        "id": "C-19FWsO2yN9"
      },
      "source": [
        "We will need the following libraries:\n"
      ]
    },
    {
      "cell_type": "code",
      "metadata": {
        "id": "dPTJFThU2yN9"
      },
      "source": [
        "import pandas as pd\n",
        "import numpy as np\n",
        "import matplotlib.pyplot as plt\n",
        "import matplotlib as mpl"
      ],
      "execution_count": null,
      "outputs": []
    },
    {
      "cell_type": "markdown",
      "metadata": {
        "id": "jqENuM592yN-"
      },
      "source": [
        "<b>Importing the Data</b>\n"
      ]
    },
    {
      "cell_type": "markdown",
      "metadata": {
        "id": "vYCQKqt32yN_"
      },
      "source": [
        "Load the csv:\n"
      ]
    },
    {
      "cell_type": "code",
      "metadata": {
        "id": "7k6VlKPB2yN_"
      },
      "source": [
        "df= pd.read_csv('https://s3-api.us-geo.objectstorage.softlayer.net/cf-courses-data/CognitiveClass/DA0101EN/edx/project/drinks.csv')"
      ],
      "execution_count": null,
      "outputs": []
    },
    {
      "cell_type": "markdown",
      "metadata": {
        "id": "7Y3IYDbz2yOA"
      },
      "source": [
        "We use the method  <code>head()</code>  to display the first 5 columns of the dataframe:\n"
      ]
    },
    {
      "cell_type": "code",
      "metadata": {
        "id": "-pFqswEj2yOB",
        "outputId": "bc85c5b2-c670-467f-f82d-cf22e1cf4ec2"
      },
      "source": [
        "df.head()"
      ],
      "execution_count": null,
      "outputs": [
        {
          "data": {
            "text/html": "<div>\n<style scoped>\n    .dataframe tbody tr th:only-of-type {\n        vertical-align: middle;\n    }\n\n    .dataframe tbody tr th {\n        vertical-align: top;\n    }\n\n    .dataframe thead th {\n        text-align: right;\n    }\n</style>\n<table border=\"1\" class=\"dataframe\">\n  <thead>\n    <tr style=\"text-align: right;\">\n      <th></th>\n      <th>country</th>\n      <th>beer_servings</th>\n      <th>spirit_servings</th>\n      <th>wine_servings</th>\n      <th>total_litres_of_pure_alcohol</th>\n      <th>continent</th>\n    </tr>\n  </thead>\n  <tbody>\n    <tr>\n      <th>0</th>\n      <td>Afghanistan</td>\n      <td>0</td>\n      <td>0</td>\n      <td>0</td>\n      <td>0.0</td>\n      <td>Asia</td>\n    </tr>\n    <tr>\n      <th>1</th>\n      <td>Albania</td>\n      <td>89</td>\n      <td>132</td>\n      <td>54</td>\n      <td>4.9</td>\n      <td>Europe</td>\n    </tr>\n    <tr>\n      <th>2</th>\n      <td>Algeria</td>\n      <td>25</td>\n      <td>0</td>\n      <td>14</td>\n      <td>0.7</td>\n      <td>Africa</td>\n    </tr>\n    <tr>\n      <th>3</th>\n      <td>Andorra</td>\n      <td>245</td>\n      <td>138</td>\n      <td>312</td>\n      <td>12.4</td>\n      <td>Europe</td>\n    </tr>\n    <tr>\n      <th>4</th>\n      <td>Angola</td>\n      <td>217</td>\n      <td>57</td>\n      <td>45</td>\n      <td>5.9</td>\n      <td>Africa</td>\n    </tr>\n  </tbody>\n</table>\n</div>",
            "text/plain": "       country  beer_servings  spirit_servings  wine_servings  \\\n0  Afghanistan              0                0              0   \n1      Albania             89              132             54   \n2      Algeria             25                0             14   \n3      Andorra            245              138            312   \n4       Angola            217               57             45   \n\n   total_litres_of_pure_alcohol continent  \n0                           0.0      Asia  \n1                           4.9    Europe  \n2                           0.7    Africa  \n3                          12.4    Europe  \n4                           5.9    Africa  "
          },
          "execution_count": 3,
          "metadata": {},
          "output_type": "execute_result"
        }
      ]
    },
    {
      "cell_type": "markdown",
      "metadata": {
        "id": "pgS8Q-Lm2yOC"
      },
      "source": [
        "<b>Part 1</b>:  Display the data types of each column using the attribute dtype.\n"
      ]
    },
    {
      "cell_type": "code",
      "metadata": {
        "scrolled": true,
        "id": "xMlhVSbC2yOC",
        "outputId": "f5fabdf9-ed8c-4d9c-a9c3-c5abff3e1b20"
      },
      "source": [
        "df.dtypes"
      ],
      "execution_count": null,
      "outputs": [
        {
          "data": {
            "text/plain": "country                          object\nbeer_servings                     int64\nspirit_servings                   int64\nwine_servings                     int64\ntotal_litres_of_pure_alcohol    float64\ncontinent                        object\ndtype: object"
          },
          "execution_count": 4,
          "metadata": {},
          "output_type": "execute_result"
        }
      ]
    },
    {
      "cell_type": "markdown",
      "metadata": {
        "id": "JTGhsms32yOD"
      },
      "source": [
        "<b>Part 2</b> Use the method <code>groupby</code> to get the number of wine servings per continent:\n"
      ]
    },
    {
      "cell_type": "code",
      "metadata": {
        "id": "pf9I04Rr2yOD",
        "outputId": "9b7a2bc7-6dc1-474c-98e3-00259863b4f2"
      },
      "source": [
        "df_group = df.groupby('continent')['wine_servings'].agg(\"sum\")\n",
        "df_group"
      ],
      "execution_count": null,
      "outputs": [
        {
          "data": {
            "text/plain": "continent\nAfrica            862\nAsia              399\nEurope           6400\nNorth America     564\nOceania           570\nSouth America     749\nName: wine_servings, dtype: int64"
          },
          "execution_count": 7,
          "metadata": {},
          "output_type": "execute_result"
        }
      ]
    },
    {
      "cell_type": "markdown",
      "metadata": {
        "id": "4vyu-RLj2yOE"
      },
      "source": [
        "<b>Part 3:</b> Perform a statistical summary and analysis of beer servings for each continent:\n"
      ]
    },
    {
      "cell_type": "code",
      "metadata": {
        "id": "jGz8YGGd2yOE",
        "outputId": "aa2b867f-bf4d-4d4d-9908-715b32b1b305"
      },
      "source": [
        "beer = df.groupby('continent')['beer_servings'].describe()\n",
        "beer"
      ],
      "execution_count": null,
      "outputs": [
        {
          "data": {
            "text/html": "<div>\n<style scoped>\n    .dataframe tbody tr th:only-of-type {\n        vertical-align: middle;\n    }\n\n    .dataframe tbody tr th {\n        vertical-align: top;\n    }\n\n    .dataframe thead th {\n        text-align: right;\n    }\n</style>\n<table border=\"1\" class=\"dataframe\">\n  <thead>\n    <tr style=\"text-align: right;\">\n      <th></th>\n      <th>count</th>\n      <th>mean</th>\n      <th>std</th>\n      <th>min</th>\n      <th>25%</th>\n      <th>50%</th>\n      <th>75%</th>\n      <th>max</th>\n    </tr>\n    <tr>\n      <th>continent</th>\n      <th></th>\n      <th></th>\n      <th></th>\n      <th></th>\n      <th></th>\n      <th></th>\n      <th></th>\n      <th></th>\n    </tr>\n  </thead>\n  <tbody>\n    <tr>\n      <th>Africa</th>\n      <td>53.0</td>\n      <td>61.471698</td>\n      <td>80.557816</td>\n      <td>0.0</td>\n      <td>15.00</td>\n      <td>32.0</td>\n      <td>76.00</td>\n      <td>376.0</td>\n    </tr>\n    <tr>\n      <th>Asia</th>\n      <td>44.0</td>\n      <td>37.045455</td>\n      <td>49.469725</td>\n      <td>0.0</td>\n      <td>4.25</td>\n      <td>17.5</td>\n      <td>60.50</td>\n      <td>247.0</td>\n    </tr>\n    <tr>\n      <th>Europe</th>\n      <td>45.0</td>\n      <td>193.777778</td>\n      <td>99.631569</td>\n      <td>0.0</td>\n      <td>127.00</td>\n      <td>219.0</td>\n      <td>270.00</td>\n      <td>361.0</td>\n    </tr>\n    <tr>\n      <th>North America</th>\n      <td>23.0</td>\n      <td>145.434783</td>\n      <td>79.621163</td>\n      <td>1.0</td>\n      <td>80.00</td>\n      <td>143.0</td>\n      <td>198.00</td>\n      <td>285.0</td>\n    </tr>\n    <tr>\n      <th>Oceania</th>\n      <td>16.0</td>\n      <td>89.687500</td>\n      <td>96.641412</td>\n      <td>0.0</td>\n      <td>21.00</td>\n      <td>52.5</td>\n      <td>125.75</td>\n      <td>306.0</td>\n    </tr>\n    <tr>\n      <th>South America</th>\n      <td>12.0</td>\n      <td>175.083333</td>\n      <td>65.242845</td>\n      <td>93.0</td>\n      <td>129.50</td>\n      <td>162.5</td>\n      <td>198.00</td>\n      <td>333.0</td>\n    </tr>\n  </tbody>\n</table>\n</div>",
            "text/plain": "               count        mean        std   min     25%    50%     75%  \\\ncontinent                                                                  \nAfrica          53.0   61.471698  80.557816   0.0   15.00   32.0   76.00   \nAsia            44.0   37.045455  49.469725   0.0    4.25   17.5   60.50   \nEurope          45.0  193.777778  99.631569   0.0  127.00  219.0  270.00   \nNorth America   23.0  145.434783  79.621163   1.0   80.00  143.0  198.00   \nOceania         16.0   89.687500  96.641412   0.0   21.00   52.5  125.75   \nSouth America   12.0  175.083333  65.242845  93.0  129.50  162.5  198.00   \n\n                 max  \ncontinent             \nAfrica         376.0  \nAsia           247.0  \nEurope         361.0  \nNorth America  285.0  \nOceania        306.0  \nSouth America  333.0  "
          },
          "execution_count": 8,
          "metadata": {},
          "output_type": "execute_result"
        }
      ]
    },
    {
      "cell_type": "markdown",
      "metadata": {
        "id": "6AU4_YR02yOF"
      },
      "source": [
        "<b>Part 4:</b> Use the function boxplot in the seaborn library to produce a plot that can be used to show the number of beer servings on each continent.\n"
      ]
    },
    {
      "cell_type": "code",
      "metadata": {
        "id": "5lrxPG6S2yOF",
        "outputId": "3bb43d36-5ea5-49da-96aa-b2ef606969b1"
      },
      "source": [
        "import seaborn as sns \n",
        "ax = sns.boxplot(x=df['continent'],y=df['beer_servings'])\n",
        "ax"
      ],
      "execution_count": null,
      "outputs": [
        {
          "data": {
            "text/plain": "<matplotlib.axes._subplots.AxesSubplot at 0x7fee5c23a150>"
          },
          "execution_count": 3,
          "metadata": {},
          "output_type": "execute_result"
        },
        {
          "data": {
            "image/png": "[encoded data removed]",
            "text/plain": "<Figure size 432x288 with 1 Axes>"
          },
          "metadata": {
            "needs_background": "light"
          },
          "output_type": "display_data"
        }
      ]
    },
    {
      "cell_type": "markdown",
      "metadata": {
        "id": "JBtIVu9g2yOF"
      },
      "source": [
        "<b>Part 5</b>: Use the function <code> regplot</code> in the seaborn library to determine if the number of wine servings is\n",
        "negatively or positively correlated with the number of beer servings.\n"
      ]
    },
    {
      "cell_type": "code",
      "metadata": {
        "id": "amJsVF7v2yOF",
        "outputId": "a5b50fc2-a8bb-4a9d-9788-eb15187ced84"
      },
      "source": [
        "import seaborn as sns \n",
        "sns.regplot(x='wine_servings',y='beer_servings', data=df)\n",
        "plt.ylim(0,)"
      ],
      "execution_count": null,
      "outputs": [
        {
          "data": {
            "text/plain": "(0.0, 411.9337048830688)"
          },
          "execution_count": 10,
          "metadata": {},
          "output_type": "execute_result"
        },
        {
          "data": {
            "image/png": "[encoded data removed]",
            "text/plain": "<Figure size 432x288 with 1 Axes>"
          },
          "metadata": {
            "needs_background": "light"
          },
          "output_type": "display_data"
        }
      ]
    },
    {
      "cell_type": "markdown",
      "metadata": {
        "id": "BJUVZaFm2yOG"
      },
      "source": [
        "<b> Part 6:</b> Fit a linear regression model to predict the <code>'total_litres_of_pure_alcohol'</code> using the number of <code>'wine_servings'</code> then we calculate $R^{2}$:\n"
      ]
    },
    {
      "cell_type": "code",
      "metadata": {
        "id": "T2W0d1lz2yOG",
        "outputId": "ca64b2b5-6961-4244-a4be-e8b6c2004b94"
      },
      "source": [
        "from sklearn.linear_model import LinearRegression\n",
        "lm = LinearRegression()\n",
        "X = df[['total_litres_of_pure_alcohol']]\n",
        "Y = df['wine_servings']\n",
        "lm.fit(X,Y)\n",
        "Yhat=lm.predict(X)\n",
        "print('The R-square is: ', lm.score(X, Y))"
      ],
      "execution_count": null,
      "outputs": [
        {
          "name": "stdout",
          "output_type": "stream",
          "text": "The R-square is:  0.4456875459787605\n"
        }
      ]
    },
    {
      "cell_type": "markdown",
      "metadata": {
        "id": "otyoS9LH2yOH"
      },
      "source": [
        "<br>\n",
        "<b>Note:</b> We use <code>test_size = 0.10</code> in the following parts.\n"
      ]
    },
    {
      "cell_type": "markdown",
      "metadata": {
        "id": "uXEw71zm2yOH"
      },
      "source": [
        "<b>Part 7: </b>Use list of features to predict the <code>'total_litres_of_pure_alcohol'</code>, split the data into training and testing and determine the $R^2$ on the test data:\n"
      ]
    },
    {
      "cell_type": "code",
      "metadata": {
        "id": "pye0r48Y2yOI",
        "outputId": "12ccca60-6249-4165-c4f6-5430fa9d8bcd"
      },
      "source": [
        "from sklearn.linear_model import LinearRegression\n",
        "from sklearn.model_selection import train_test_split\n",
        "\n",
        "y = df[['total_litres_of_pure_alcohol']]\n",
        "x = df.drop('total_litres_of_pure_alcohol', axis=1)\n",
        "x_train, x_test, y_train, y_test = train_test_split(x, y, test_size=0.10, random_state=1)\n",
        "print('test samples : ', x_test.shape[0])\n",
        "print('training samples : ', y_test.shape[0])\n",
        "lm = LinearRegression()\n",
        "lm.fit(x_train[['wine_servings','beer_servings','spirit_servings']], y_train)\n",
        "print(lm.score(x_test[['wine_servings','beer_servings','spirit_servings']], y_test))"
      ],
      "execution_count": null,
      "outputs": [
        {
          "name": "stdout",
          "output_type": "stream",
          "text": "test samples :  20\ntraining samples :  20\n0.5900674800367456\n"
        }
      ]
    },
    {
      "cell_type": "markdown",
      "metadata": {
        "id": "v8akia5r2yOI"
      },
      "source": [
        "<b>Part 8 :</b> Create a pipeline object that scales the data, performs a polynomial transform and fits a linear regression model. Fit the object using the training data in the question above, then calculate the $R^{2}$ using the test data. Take a screenshot of your code and the $R^{2}$.\n"
      ]
    },
    {
      "cell_type": "markdown",
      "metadata": {
        "id": "_Y49ZfOg2yOJ"
      },
      "source": [
        "<code>'scale'</code>\n",
        "\n",
        "<code>'polynomial'</code>\n",
        "\n",
        "<code>'model'</code>\n",
        "\n",
        "The second element in the tuple contains the model constructor\n",
        "\n",
        "<code>StandardScaler()</code>\n",
        "\n",
        "<code>PolynomialFeatures(include_bias=False)</code>\n",
        "\n",
        "<code>LinearRegression()</code>\n"
      ]
    },
    {
      "cell_type": "code",
      "metadata": {
        "id": "EEVpsJEy2yOJ",
        "outputId": "eed9fd01-116a-4666-c9da-dfeb131c77ce"
      },
      "source": [
        "from sklearn.pipeline import Pipeline\n",
        "from sklearn.preprocessing import StandardScaler,PolynomialFeatures\n",
        "from sklearn.linear_model import LinearRegression\n",
        "from sklearn.metrics import r2_score\n",
        "\n",
        "y = df[['total_litres_of_pure_alcohol']]\n",
        "x = df.drop('total_litres_of_pure_alcohol', axis=1)\n",
        "x_train, x_test, y_train, y_test = train_test_split(x, y, test_size=0.10, random_state=1)\n",
        "print('test samples : ', x_test.shape[0])\n",
        "print('training samples : ', y_test.shape[0])\n",
        "\n",
        "pr=PolynomialFeatures(degree=3, include_bias=False)\n",
        "x_train_pr=pr.fit_transform(x_train[['wine_servings','beer_servings','spirit_servings']])\n",
        "x_test_pr=pr.fit_transform(x_test[['wine_servings','beer_servings','spirit_servings']])\n",
        "\n",
        "poly=LinearRegression()\n",
        "poly.fit(x_test_pr, y_test)\n",
        "yhat=poly.predict(x_test_pr)\n",
        "yhat[0:5]\n",
        "print('Predicted values:', yhat[0:4])\n",
        "print('True values:', y_test[0:4].values)\n",
        "poly.score(x_test_pr, y_test)"
      ],
      "execution_count": null,
      "outputs": [
        {
          "name": "stdout",
          "output_type": "stream",
          "text": "test samples :  20\ntraining samples :  20\nPredicted values: [[8.2]\n [2.2]\n [1.7]\n [7.6]]\nTrue values: [[8.2]\n [2.2]\n [1.7]\n [7.6]]\n"
        },
        {
          "data": {
            "text/plain": "1.0"
          },
          "execution_count": 18,
          "metadata": {},
          "output_type": "execute_result"
        }
      ]
    },
    {
      "cell_type": "markdown",
      "metadata": {
        "id": "nd-A3Bpq2yOK"
      },
      "source": [
        "<b>Part 9</b>: Create and fit a Ridge regression object using the training data, setting the regularization parameter to 0.1 and calculate the $R^{2}$ using the test data.\n"
      ]
    },
    {
      "cell_type": "code",
      "metadata": {
        "id": "5mw1XZlZ2yOK",
        "outputId": "359abe96-cf37-4192-8af2-8ba12649c22d"
      },
      "source": [
        "from sklearn.linear_model import Ridge\n",
        "\n",
        "pr=PolynomialFeatures(degree=2)\n",
        "RidgeModel=Ridge(alpha=0.1)\n",
        "RidgeModel.fit(x_train_pr, y_train)\n",
        "yhat = RidgeModel.predict(x_test_pr)\n",
        "print('predicted:', yhat[0:4])\n",
        "print('test set :', y_test[0:4].values)\n",
        "RidgeModel.score(x_test_pr, y_test)"
      ],
      "execution_count": null,
      "outputs": [
        {
          "name": "stdout",
          "output_type": "stream",
          "text": "predicted: [[8.50752455]\n [2.6026045 ]\n [0.67872207]\n [8.16204083]]\ntest set : [[8.2]\n [2.2]\n [1.7]\n [7.6]]\n"
        },
        {
          "data": {
            "text/plain": "0.6801317028931033"
          },
          "execution_count": 19,
          "metadata": {},
          "output_type": "execute_result"
        }
      ]
    },
    {
      "cell_type": "markdown",
      "metadata": {
        "id": "bRzk8-EY2yOL"
      },
      "source": [
        "<b>Part 10 </b>: Perform a 2nd order polynomial transform on both the training data and testing data.  Create and fit a Ridge regression object using the training data, setting the regularization parameter to 0.1. Calculate the $R^{2}$ utilizing the test data provided. \n"
      ]
    },
    {
      "cell_type": "code",
      "metadata": {
        "id": "Co-33vSi2yOL",
        "outputId": "44337b1d-3ee8-4fbb-fe3f-9349e38cfb7a"
      },
      "source": [
        "from sklearn.linear_model import Ridge\n",
        "from sklearn.linear_model import LinearRegression\n",
        "from sklearn.preprocessing import StandardScaler,PolynomialFeatures\n",
        "\n",
        "\n",
        "pr=PolynomialFeatures(degree=2)\n",
        "x_train_pr=pr.fit_transform(x_train[['wine_servings','beer_servings','spirit_servings']])\n",
        "x_test_pr=pr.fit_transform(x_test[['wine_servings','beer_servings','spirit_servings']])\n",
        "\n",
        "RidgeModel=Ridge(alpha=0.1)\n",
        "RidgeModel.fit(x_train_pr, y_train)\n",
        "yhat = RidgeModel.predict(x_test_pr)\n",
        "print('predicted:', yhat[0:4])\n",
        "print('test set :', y_test[0:4].values)\n",
        "RidgeModel.score(x_test_pr, y_test)"
      ],
      "execution_count": null,
      "outputs": [
        {
          "name": "stdout",
          "output_type": "stream",
          "text": "predicted: [[8.59135024]\n [2.55049551]\n [0.84182382]\n [7.91923482]]\ntest set : [[8.2]\n [2.2]\n [1.7]\n [7.6]]\n"
        },
        {
          "data": {
            "text/plain": "0.6395353494353714"
          },
          "execution_count": 20,
          "metadata": {},
          "output_type": "execute_result"
        }
      ]
    }
  ]
}