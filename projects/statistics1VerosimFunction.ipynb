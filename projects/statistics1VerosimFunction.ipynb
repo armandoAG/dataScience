{
  "nbformat": 4,
  "nbformat_minor": 0,
  "metadata": {
    "colab": {
      "name": "statistics1VerosimFunction.ipynb",
      "provenance": [],
      "collapsed_sections": []
    },
    "kernelspec": {
      "name": "python3",
      "display_name": "Python 3"
    }
  },
  "cells": [
    {
      "cell_type": "code",
      "metadata": {
        "id": "wyf8MH9HgYnf"
      },
      "source": [
        "import numpy as np\n",
        "import matplotlib.pyplot as plt"
      ],
      "execution_count": null,
      "outputs": []
    },
    {
      "cell_type": "code",
      "metadata": {
        "id": "ZeprQv7Ldf5T"
      },
      "source": [
        "# PART 1\n",
        "\n",
        "def uni_sample(min, max, N):\n",
        "  return np.random.randint(min, max, N, int)\n",
        "\n",
        "\n",
        "\n",
        "def norm_sample(mean, stdv, N):\n",
        "  return np.random.normal(mean, stdv, N)"
      ],
      "execution_count": null,
      "outputs": []
    },
    {
      "cell_type": "code",
      "metadata": {
        "colab": {
          "base_uri": "https://localhost:8080/",
          "height": 350
        },
        "id": "W2EkyBi17irY",
        "outputId": "0eb598c6-c737-43b8-ae41-117e99a59cb7"
      },
      "source": [
        "#proof 1\n",
        "plt.hist(uni_sample(160, 185, 100), 9)"
      ],
      "execution_count": null,
      "outputs": [
        {
          "output_type": "execute_result",
          "data": {
            "text/plain": [
              "(array([12., 12., 11., 13., 14.,  8., 10., 13.,  7.]),\n",
              " array([160.        , 162.66666667, 165.33333333, 168.        ,\n",
              "        170.66666667, 173.33333333, 176.        , 178.66666667,\n",
              "        181.33333333, 184.        ]),\n",
              " <a list of 9 Patch objects>)"
            ]
          },
          "metadata": {
            "tags": []
          },
          "execution_count": 106
        },
        {
          "output_type": "display_data",
          "data": {
            "image/png": "[encoded data removed]",
            "text/plain": [
              "<Figure size 432x288 with 1 Axes>"
            ]
          },
          "metadata": {
            "tags": [],
            "needs_background": "light"
          }
        }
      ]
    },
    {
      "cell_type": "code",
      "metadata": {
        "colab": {
          "base_uri": "https://localhost:8080/",
          "height": 350
        },
        "id": "MKzdyjzmgv5P",
        "outputId": "00e7a4cb-c7c1-44b1-db99-db926262588e"
      },
      "source": [
        "#proof 2\n",
        "plt.hist(norm_sample(170, 5, 1000), 9)"
      ],
      "execution_count": null,
      "outputs": [
        {
          "output_type": "execute_result",
          "data": {
            "text/plain": [
              "(array([  5.,  33.,  83., 196., 267., 221., 135.,  50.,  10.]),\n",
              " array([154.29922079, 157.5964856 , 160.8937504 , 164.19101521,\n",
              "        167.48828001, 170.78554482, 174.08280962, 177.38007443,\n",
              "        180.67733924, 183.97460404]),\n",
              " <a list of 9 Patch objects>)"
            ]
          },
          "metadata": {
            "tags": []
          },
          "execution_count": 109
        },
        {
          "output_type": "display_data",
          "data": {
            "image/png": "[encoded data removed]",
            "text/plain": [
              "<Figure size 432x288 with 1 Axes>"
            ]
          },
          "metadata": {
            "tags": [],
            "needs_background": "light"
          }
        }
      ]
    },
    {
      "cell_type": "code",
      "metadata": {
        "id": "yXAvFI6ZtoBs"
      },
      "source": [
        "# PART 2\n",
        "\n",
        "def verosim_eval(sample, mean, stdv):\n",
        " return np.prod((1/np.sqrt(2*np.pi*pow(stdv, 2))) * np.exp((-1/2*pow(stdv, 2)) * (sample-mean)**2))"
      ],
      "execution_count": null,
      "outputs": []
    },
    {
      "cell_type": "code",
      "metadata": {
        "colab": {
          "base_uri": "https://localhost:8080/"
        },
        "id": "6iEdV8X689ot",
        "outputId": "8a69e7a9-f9e9-4b05-8533-366e8e8af6ec"
      },
      "source": [
        "func = verosim_eval(norm_sample(177,1, 10), 176, 2)\n",
        "func"
      ],
      "execution_count": null,
      "outputs": [
        {
          "output_type": "execute_result",
          "data": {
            "text/plain": [
              "3.5550042583287195e-14"
            ]
          },
          "metadata": {
            "tags": []
          },
          "execution_count": 66
        }
      ]
    },
    {
      "cell_type": "code",
      "metadata": {
        "colab": {
          "base_uri": "https://localhost:8080/"
        },
        "id": "YzSx1d6xYfNK",
        "outputId": "4a1e6650-d2e8-46fc-ad49-20b0a61eba94"
      },
      "source": [
        "func = verosim_eval(norm_sample(177,1, 10), 174, 2)\n",
        "func"
      ],
      "execution_count": null,
      "outputs": [
        {
          "output_type": "execute_result",
          "data": {
            "text/plain": [
              "1.1833251539305863e-87"
            ]
          },
          "metadata": {
            "tags": []
          },
          "execution_count": 70
        }
      ]
    },
    {
      "cell_type": "markdown",
      "metadata": {
        "id": "gv553y4oTxt7"
      },
      "source": [
        "Note que al alejarse de, por ejemplo, la media con la qu fue creada la muestra la probabilidad disminuye."
      ]
    },
    {
      "cell_type": "code",
      "metadata": {
        "colab": {
          "base_uri": "https://localhost:8080/"
        },
        "id": "bdw1iSTUSxWs",
        "outputId": "bab4bbff-e5bc-423f-f0c3-d5c19666d4a2"
      },
      "source": [
        "# PART 3\n",
        "\n",
        "func = verosim_eval(norm_sample(177,1, 100), 174, 2)\n",
        "func"
      ],
      "execution_count": null,
      "outputs": [
        {
          "output_type": "execute_result",
          "data": {
            "text/plain": [
              "0.0"
            ]
          },
          "metadata": {
            "tags": []
          },
          "execution_count": 7
        }
      ]
    },
    {
      "cell_type": "markdown",
      "metadata": {
        "id": "iUDLgzwTUa7H"
      },
      "source": [
        "Para una muestra más grande esta probabilidad se trunca a cero por ser una productoria de número muy pequeños. Por lo que una posible solución es cambiar la escala de la probabilidad. En este caso lo que se va a tomar no es la probabilidad de provenir de una distribución normal sino el logaritmo de esa probabilidad, por lo que la evaluación de la función de verosimilitud sería"
      ]
    },
    {
      "cell_type": "code",
      "metadata": {
        "id": "VPLe1yZLaDgC"
      },
      "source": [
        "def verosim_eval2(sample, mean, stdv):\n",
        " return sum(np.log((1/np.sqrt(2*np.pi*pow(stdv, 2))) * np.exp((-1/2*pow(stdv, 2)) * (sample-mean)**2)))"
      ],
      "execution_count": null,
      "outputs": []
    },
    {
      "cell_type": "code",
      "metadata": {
        "colab": {
          "base_uri": "https://localhost:8080/"
        },
        "id": "4KYiWuoCbOKz",
        "outputId": "91c05a51-dbe7-43d2-d43a-86b5d4e92850"
      },
      "source": [
        "func = verosim_eval2(norm_sample(177,1, 100), 176, 2)\n",
        "func"
      ],
      "execution_count": null,
      "outputs": [
        {
          "output_type": "execute_result",
          "data": {
            "text/plain": [
              "-583.7688050144031"
            ]
          },
          "metadata": {
            "tags": []
          },
          "execution_count": 25
        }
      ]
    },
    {
      "cell_type": "code",
      "metadata": {
        "colab": {
          "base_uri": "https://localhost:8080/"
        },
        "id": "uxG4Vs6NbrvG",
        "outputId": "2cd6eb46-16b2-4cb0-e2b1-b607f14add9f"
      },
      "source": [
        "func = verosim_eval2(norm_sample(177,1, 100), 172, 2)\n",
        "func"
      ],
      "execution_count": null,
      "outputs": [
        {
          "output_type": "execute_result",
          "data": {
            "text/plain": [
              "-5583.274033847282"
            ]
          },
          "metadata": {
            "tags": []
          },
          "execution_count": 27
        }
      ]
    },
    {
      "cell_type": "markdown",
      "metadata": {
        "id": "yeDr6EF9c10O"
      },
      "source": [
        "Como se puede observar en los dos ejemplos anteriores para una media de prueba más cercana al valor real la probabilidad es mayor y es dada en una escala más comprensible y funcional."
      ]
    },
    {
      "cell_type": "code",
      "metadata": {
        "id": "BGGSyup6_SvU"
      },
      "source": [
        "# PART 4\n",
        "\n",
        "def optimum_param(sample):\n",
        "  mu = (1/len(sample)) * sum(sample)\n",
        "\n",
        "  stdv = (1/len(sample)) * sum(pow(sample-mu, 2))\n",
        "\n",
        "  return mu, np.sqrt(stdv)"
      ],
      "execution_count": null,
      "outputs": []
    },
    {
      "cell_type": "code",
      "metadata": {
        "colab": {
          "base_uri": "https://localhost:8080/"
        },
        "id": "pqwOHXfcx5_l",
        "outputId": "46e2c949-ffba-4141-c016-5c27647244b6"
      },
      "source": [
        "optimum_param(norm_sample(170,5, 1000))"
      ],
      "execution_count": null,
      "outputs": [
        {
          "output_type": "execute_result",
          "data": {
            "text/plain": [
              "(169.7145157670761, 4.9664716553676085)"
            ]
          },
          "metadata": {
            "tags": []
          },
          "execution_count": 50
        }
      ]
    },
    {
      "cell_type": "code",
      "metadata": {
        "colab": {
          "base_uri": "https://localhost:8080/"
        },
        "id": "Q1DQf-xSD4v4",
        "outputId": "b60a4dfd-dfe2-498b-b66b-a9fec8417a87"
      },
      "source": [
        "optimum_param(norm_sample(25, 3, 1000))"
      ],
      "execution_count": null,
      "outputs": [
        {
          "output_type": "execute_result",
          "data": {
            "text/plain": [
              "(25.085092914721283, 2.9479586410250915)"
            ]
          },
          "metadata": {
            "tags": []
          },
          "execution_count": 52
        }
      ]
    },
    {
      "cell_type": "code",
      "metadata": {
        "colab": {
          "base_uri": "https://localhost:8080/"
        },
        "id": "DcSVGYYT8lld",
        "outputId": "462733fc-8680-4aef-ca9f-2f601ec59806"
      },
      "source": [
        "# PARTE 2 Respuesta 5\n",
        "\n",
        "for i in range(0,10):\n",
        "  optimum_stdv = []\n",
        "\n",
        "  for i in range(0,10000):\n",
        "    optimum_stdv += [optimum_param(norm_sample(170, 1, 30))[1]]\n",
        "\n",
        "  mean_stdv = sum(optimum_stdv) / len(optimum_stdv)\n",
        "  print(mean_stdv)\n"
      ],
      "execution_count": null,
      "outputs": [
        {
          "output_type": "stream",
          "text": [
            "0.9763566626755901\n",
            "0.9718779462403885\n",
            "0.9764908896597532\n",
            "0.9737725718140615\n",
            "0.9760550603216208\n",
            "0.9753043166041918\n",
            "0.9765676947587497\n",
            "0.9767505272609884\n",
            "0.9769543794884358\n",
            "0.9747651513483977\n"
          ],
          "name": "stdout"
        }
      ]
    },
    {
      "cell_type": "markdown",
      "metadata": {
        "id": "GC59GhHhwRgE"
      },
      "source": [
        "Como se puede ver en las 10 corridas anteriores la media de esta varianza no parece aproximar del todo el valor conocido de 1, por lo que una posible solución es que desde un inicio se tomen más observaciones, en el siguiente caso se muestra un proceso similar anterior con un set de datos de 300"
      ]
    },
    {
      "cell_type": "code",
      "metadata": {
        "colab": {
          "base_uri": "https://localhost:8080/"
        },
        "id": "3qxCR_CpxEEM",
        "outputId": "ad71f5ba-e3aa-40df-ef0c-4bfcf5a0bd6e"
      },
      "source": [
        "for i in range(0,10):\n",
        "  optimum_stdv = []\n",
        "\n",
        "  for i in range(0,10000):\n",
        "    optimum_stdv += [optimum_param(norm_sample(170, 1, 300))[1]]\n",
        "\n",
        "  mean_stdv = sum(optimum_stdv) / len(optimum_stdv)\n",
        "  print(mean_stdv)\n"
      ],
      "execution_count": null,
      "outputs": [
        {
          "output_type": "stream",
          "text": [
            "0.9975976284663997\n",
            "0.9981533384400071\n",
            "0.9978869412186264\n",
            "0.9983621855236208\n",
            "0.9973699035934165\n",
            "0.9971793105417354\n",
            "0.9972373409750946\n",
            "0.9980234084728099\n",
            "0.9976771573367994\n",
            "0.9975228290352086\n"
          ],
          "name": "stdout"
        }
      ]
    },
    {
      "cell_type": "markdown",
      "metadata": {
        "id": "N8p_DlJhxRdk"
      },
      "source": [
        "por lo que en este caso se aproxima mejor el parametro de la varianza."
      ]
    }
  ]
}